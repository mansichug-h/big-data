{
  "nbformat": 4,
  "nbformat_minor": 0,
  "metadata": {
    "colab": {
      "provenance": [],
      "authorship_tag": "ABX9TyNCB9xmEF4VippTajAp8II0"
    },
    "kernelspec": {
      "name": "python3",
      "display_name": "Python 3"
    },
    "language_info": {
      "name": "python"
    }
  },
  "cells": [
    {
      "cell_type": "code",
      "execution_count": 1,
      "metadata": {
        "colab": {
          "base_uri": "https://localhost:8080/"
        },
        "id": "ftSWZ7FDjpAJ",
        "outputId": "01424718-ac6e-4915-a74d-4b235adc7386"
      },
      "outputs": [
        {
          "output_type": "stream",
          "name": "stdout",
          "text": [
            "     Refund Marital Status Taxable Income Cheat\n",
            "S.No                                           \n",
            "1       Yes         Single           125k    No\n",
            "2        No        Married           100k   Yes\n",
            "3        No         Single            70k    No\n",
            "4       Yes        Married           120k   Yes\n",
            "5        No       Divorced           220k    No\n",
            "6       Yes        Married           339k   Yes\n",
            "7       Yes         Single           123k    No\n",
            "8        No        Married            85k    No\n",
            "9       Yes       Divorced           854k    No\n"
          ]
        }
      ],
      "source": [
        "#Q.1 Create a dataset as follow in the table\n",
        "import pandas as pd\n",
        "dataset={\n",
        "    \"Refund\": [\"Yes\",\"No\",\"No\",\"Yes\",\"No\",\"Yes\",\"Yes\",\"No\",\"Yes\"],\n",
        "    \"Marital Status\": [\"Single\",\"Married\",\"Single\",\"Married\",\"Divorced\",\"Married\",\"Single\",\"Married\",\"Divorced\"],\n",
        "    \"Taxable Income\": [\"125k\",\"100k\",\"70k\",\"120k\",\"220k\",\"339k\",\"123k\",\"85k\",\"854k\"],\n",
        "    \"Cheat\" : [\"No\",\"Yes\",\"No\",\"Yes\",\"No\",\"Yes\",\"No\",\"No\",\"No\"]\n",
        "}\n",
        "#da = pd.DataFrame(dataset)\n",
        "da=pd.DataFrame(dataset,index= pd.RangeIndex(start=1,stop=10,name=\"S.No\"))\n",
        "print(da)"
      ]
    },
    {
      "cell_type": "code",
      "source": [
        "import pandas as pd\n",
        "dataset={\n",
        "    \"Refund\": [\"Yes\",\"No\",\"No\",\"Yes\",\"No\",\"Yes\",\"Yes\",\"No\",\"Yes\"],\n",
        "    \"Marital Status\": [\"Single\",\"Married\",\"Single\",\"Married\",\"Divorced\",\"Married\",\"Single\",\"Married\",\"Divorced\"],\n",
        "    \"Taxable Income\": [\"125k\",\"100k\",\"70k\",\"120k\",\"220k\",\"339k\",\"123k\",\"85k\",\"854k\"],\n",
        "    \"Cheat\" : [\"No\",\"Yes\",\"No\",\"Yes\",\"No\",\"Yes\",\"No\",\"No\",\"No\"]\n",
        "}\n",
        "da = pd.DataFrame(dataset)\n",
        "#da=pd.DataFrame(dataset,index= pd.RangeIndex(start=1,stop=10,name=\"S.No\"))\n",
        "print(da.loc[0])\n",
        "print(da.loc[4])\n",
        "print(da.loc[7])\n",
        "print(da.loc[8])"
      ],
      "metadata": {
        "colab": {
          "base_uri": "https://localhost:8080/"
        },
        "id": "sIR6WcrgmDTz",
        "outputId": "99b0514c-825e-4ade-fb35-b3cf8fc7e3d3"
      },
      "execution_count": 5,
      "outputs": [
        {
          "output_type": "stream",
          "name": "stdout",
          "text": [
            "Refund               Yes\n",
            "Marital Status    Single\n",
            "Taxable Income      125k\n",
            "Cheat                 No\n",
            "Name: 0, dtype: object\n",
            "Refund                  No\n",
            "Marital Status    Divorced\n",
            "Taxable Income        220k\n",
            "Cheat                   No\n",
            "Name: 4, dtype: object\n",
            "Refund                 No\n",
            "Marital Status    Married\n",
            "Taxable Income        85k\n",
            "Cheat                  No\n",
            "Name: 7, dtype: object\n",
            "Refund                 Yes\n",
            "Marital Status    Divorced\n",
            "Taxable Income        854k\n",
            "Cheat                   No\n",
            "Name: 8, dtype: object\n"
          ]
        }
      ]
    },
    {
      "cell_type": "code",
      "source": [
        "from google.colab import drive\n",
        "drive.mount('/content/drive')"
      ],
      "metadata": {
        "colab": {
          "base_uri": "https://localhost:8080/"
        },
        "id": "EuygJC4pmWTE",
        "outputId": "9cdd4caf-bf36-4008-82a0-93cba02512a6"
      },
      "execution_count": 3,
      "outputs": [
        {
          "output_type": "stream",
          "name": "stdout",
          "text": [
            "Mounted at /content/drive\n"
          ]
        }
      ]
    },
    {
      "cell_type": "code",
      "source": [
        "import pandas as pd\n",
        "url=\"/content/data.csv\"\n",
        "df = pd.read_csv(url)\n",
        "print(df)"
      ],
      "metadata": {
        "colab": {
          "base_uri": "https://localhost:8080/"
        },
        "id": "-YiQfB-_mipQ",
        "outputId": "cc8c2196-9389-4d2a-fc36-de809e87580e"
      },
      "execution_count": 4,
      "outputs": [
        {
          "output_type": "stream",
          "name": "stdout",
          "text": [
            "     Duration  Pulse  Maxpulse  Calories\n",
            "0          60    110       130     409.1\n",
            "1          60    117       145     479.0\n",
            "2          60    103       135     340.0\n",
            "3          45    109       175     282.4\n",
            "4          45    117       148     406.0\n",
            "..        ...    ...       ...       ...\n",
            "164        60    105       140     290.8\n",
            "165        60    110       145     300.0\n",
            "166        60    115       145     310.2\n",
            "167        75    120       150     320.4\n",
            "168        75    125       150     330.4\n",
            "\n",
            "[169 rows x 4 columns]\n"
          ]
        }
      ]
    }
  ]
}