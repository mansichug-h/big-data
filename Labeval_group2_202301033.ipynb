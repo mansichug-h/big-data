{
  "nbformat": 4,
  "nbformat_minor": 0,
  "metadata": {
    "colab": {
      "provenance": [],
      "authorship_tag": "ABX9TyP2p9wtclf5uguIF2DYjjII",
      "include_colab_link": true
    },
    "kernelspec": {
      "name": "python3",
      "display_name": "Python 3"
    },
    "language_info": {
      "name": "python"
    }
  },
  "cells": [
    {
      "cell_type": "markdown",
      "metadata": {
        "id": "view-in-github",
        "colab_type": "text"
      },
      "source": [
        "<a href=\"https://colab.research.google.com/github/mansichug-h/big-data/blob/main/Labeval_group2_202301033.ipynb\" target=\"_parent\"><img src=\"https://colab.research.google.com/assets/colab-badge.svg\" alt=\"Open In Colab\"/></a>"
      ]
    },
    {
      "cell_type": "code",
      "execution_count": 1,
      "metadata": {
        "colab": {
          "base_uri": "https://localhost:8080/"
        },
        "id": "NZwSw-OqV4y3",
        "outputId": "28d3db49-06f6-4e51-fba8-cd9448209d25"
      },
      "outputs": [
        {
          "output_type": "stream",
          "name": "stdout",
          "text": [
            "[ 10  16  16  52  54  62 453]\n"
          ]
        }
      ],
      "source": [
        "#1\n",
        "import numpy as np\n",
        "arr1= np.array([10,52,62,16,16,54,453])\n",
        "print(np.sort(arr1))"
      ]
    },
    {
      "cell_type": "code",
      "source": [
        "#2\n",
        "import numpy as np\n",
        "arr1= np.array([10,52,62,16,16,54,453])\n",
        "print(np.sort(arr1))\n",
        "indices = np.argsort(arr1)\n",
        "print(indices)"
      ],
      "metadata": {
        "colab": {
          "base_uri": "https://localhost:8080/"
        },
        "id": "mXCupi0GYsK7",
        "outputId": "c09801c6-90f8-45d8-8e06-449fcd2f4262"
      },
      "execution_count": 4,
      "outputs": [
        {
          "output_type": "stream",
          "name": "stdout",
          "text": [
            "[ 10  16  16  52  54  62 453]\n",
            "[0 3 4 1 5 2 6]\n"
          ]
        }
      ]
    },
    {
      "cell_type": "code",
      "source": [
        "#3\n",
        "import numpy as np\n",
        "arr1= np.array([10,52,62,16,16,54,453])\n",
        "print(arr1)\n",
        "k = 4 #value declare no of smallest elemets\n",
        "arr2 = np.sort(arr1)\n",
        "print(k, \"smallest elements of the array\")\n",
        "print(arr2[:k])\n",
        "\n",
        "\n"
      ],
      "metadata": {
        "colab": {
          "base_uri": "https://localhost:8080/"
        },
        "id": "fn1Lc1tIZ80s",
        "outputId": "bd3a48e0-ecf2-4a9c-befd-a5ac359ff7ea"
      },
      "execution_count": 6,
      "outputs": [
        {
          "output_type": "stream",
          "name": "stdout",
          "text": [
            "[ 10  52  62  16  16  54 453]\n",
            "4 smallest elements of the array\n",
            "[10 16 16 52]\n"
          ]
        }
      ]
    },
    {
      "cell_type": "code",
      "source": [
        "import numpy as np\n",
        "arr1= np.array([10,52,62,16,16,54,453])\n",
        "st_arr =np.sort(arr1);\n",
        "ut_arr =np.unique(st_arr)\n",
        "print(st_arr[-5:])\n",
        "\n"
      ],
      "metadata": {
        "colab": {
          "base_uri": "https://localhost:8080/"
        },
        "id": "imAK9jW8cPd2",
        "outputId": "7f5c2e8e-ef7a-4804-fe55-8d46110745ba"
      },
      "execution_count": 8,
      "outputs": [
        {
          "output_type": "stream",
          "name": "stdout",
          "text": [
            "[ 16  52  54  62 453]\n"
          ]
        }
      ]
    }
  ]
}