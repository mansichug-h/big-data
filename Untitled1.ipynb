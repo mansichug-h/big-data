{
  "nbformat": 4,
  "nbformat_minor": 0,
  "metadata": {
    "colab": {
      "provenance": [],
      "authorship_tag": "ABX9TyNASWz0yKCuJwYw+G49olqT",
      "include_colab_link": true
    },
    "kernelspec": {
      "name": "python3",
      "display_name": "Python 3"
    },
    "language_info": {
      "name": "python"
    }
  },
  "cells": [
    {
      "cell_type": "markdown",
      "metadata": {
        "id": "view-in-github",
        "colab_type": "text"
      },
      "source": [
        "<a href=\"https://colab.research.google.com/github/mansichug-h/big-data/blob/main/Untitled1.ipynb\" target=\"_parent\"><img src=\"https://colab.research.google.com/assets/colab-badge.svg\" alt=\"Open In Colab\"/></a>"
      ]
    },
    {
      "cell_type": "code",
      "execution_count": 1,
      "metadata": {
        "colab": {
          "base_uri": "https://localhost:8080/"
        },
        "id": "G4bQBv2--ZVW",
        "outputId": "0241cc2a-a4a6-4250-fef0-f139bef62680"
      },
      "outputs": [
        {
          "output_type": "stream",
          "name": "stdout",
          "text": [
            "[5 4 6 3 2 1]\n"
          ]
        }
      ],
      "source": [
        "import numpy as np\n",
        "arr1= np.array([1,2,3,6,4,5])\n",
        "arr2= np.flip(arr1)\n",
        "print(arr2)\n"
      ]
    },
    {
      "cell_type": "code",
      "source": [
        "import numpy as np\n",
        "arr1 = np.array([[1,2],[3,4]])\n",
        "arr2 = np.array([[1,2],[3,4]])\n",
        "arr3 = np.array_equal(arr1,arr2)\n",
        "if arr3:\n",
        "  print(\"arrays are equal\")\n",
        "else:\n",
        "  print(\"arrays are not equal\")"
      ],
      "metadata": {
        "colab": {
          "base_uri": "https://localhost:8080/"
        },
        "id": "F--1Isb7nP1G",
        "outputId": "6a3d7baa-d083-49f0-a880-e744116ac1b6"
      },
      "execution_count": 2,
      "outputs": [
        {
          "output_type": "stream",
          "name": "stdout",
          "text": [
            "arrays are equal\n"
          ]
        }
      ]
    },
    {
      "cell_type": "code",
      "source": [
        "import numpy as np\n",
        "x = np.array([1,2,3,4,5,1,2,1,1,1])\n",
        "y = np.bincount(x)\n",
        "most_frequent_value =y.argmax()\n",
        "indices = np.where(x== most_frequent_value)\n",
        "print(most_frequent_value)\n",
        "print(indices)\n",
        "\n",
        "#ii\n",
        "import numpy as np\n",
        "y = np.array([1, 1, 1, 2, 3, 4, 2, 4, 3, 3])\n",
        "z = np.bincount(x)\n",
        "most_frequent_value =z.argmax()\n",
        "indices = np.where(y== most_frequent_value)\n",
        "print(most_frequent_value)\n",
        "print(indices)\n",
        "\n"
      ],
      "metadata": {
        "colab": {
          "base_uri": "https://localhost:8080/"
        },
        "id": "j5Ybv1RAouQj",
        "outputId": "c002e1ab-6ffc-4fe0-cd9b-d828095ac057"
      },
      "execution_count": 9,
      "outputs": [
        {
          "output_type": "stream",
          "name": "stdout",
          "text": [
            "1\n",
            "(array([0, 5, 7, 8, 9]),)\n",
            "1\n",
            "(array([0, 1, 2]),)\n"
          ]
        }
      ]
    },
    {
      "cell_type": "code",
      "source": [
        "import numpy as np\n",
        "gfg = np.matrix('[4, 1, 9; 12, 3, 1; 4, 5, 6]')\n",
        "total_sum =gfg.sum()\n",
        "print(total_sum)\n",
        "row_sum=gfg.sum(axis=1)\n",
        "print(row_sum)\n",
        "column_sum=gfg.sum(axis=0)\n",
        "print(column_sum)\n",
        "\n",
        "\n"
      ],
      "metadata": {
        "colab": {
          "base_uri": "https://localhost:8080/"
        },
        "id": "9BmyDgTusAS4",
        "outputId": "94dccaba-c144-431d-a214-713786b5c897"
      },
      "execution_count": 12,
      "outputs": [
        {
          "output_type": "stream",
          "name": "stdout",
          "text": [
            "45\n",
            "[[14]\n",
            " [16]\n",
            " [15]]\n",
            "[[20  9 16]]\n"
          ]
        }
      ]
    }
  ]
}